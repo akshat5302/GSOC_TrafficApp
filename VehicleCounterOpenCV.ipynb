{
 "cells": [
  {
   "cell_type": "code",
   "execution_count": 1,
   "metadata": {},
   "outputs": [],
   "source": [
    "import cv2\n",
    "import numpy as np\n",
    "import time\n",
    "import Vehicles\n",
    "import pandas as pd \n",
    "from datetime import datetime\n",
    "from time import time, sleep"
   ]
  },
  {
   "cell_type": "code",
   "execution_count": 13,
   "metadata": {},
   "outputs": [
    {
     "name": "stdout",
     "output_type": "stream",
     "text": [
      "EOF\n",
      "UP: 56\n",
      "DOWN: 232\n",
      "Total:  288\n"
     ]
    }
   ],
   "source": [
    "vehicle_up = 0\n",
    "vehicle_down = 0\n",
    "vehicles = [] # list of objects \n",
    "\n",
    "max_vehicle_weight = 5 \n",
    "vehicle_id = 1 \n",
    "\n",
    "\n",
    "df1_column_names = [\"Id\", \"Direction\", \"5 Minutes\"]\n",
    "df1 = pd.DataFrame(columns = df1_column_names)\n",
    "\n",
    "df2_column_names = [\"Flow (Veh/5 Minutes)\", \"5 Minutes\"]\n",
    "df1 = pd.DataFrame(columns = df2_column_names)\n",
    "\n",
    "cap = cv2.VideoCapture('./Video_Data_Samples/sample3.mp4')\n",
    "w = cap.get(3)\n",
    "h = cap.get(4)\n",
    "#print(w) 320 \n",
    "#print(h) 240\n",
    "frameArea = h*w\n",
    "detection_area= frameArea/320\n",
    "\n",
    "# up-down lines positions on the frame \n",
    "# the vehicles in this video are passing horizontally that is why we define the counting lines \n",
    "# horizontally \n",
    "detector_up = np.int(2*(h/5)) \n",
    "detector_down = np.int(3*(h/5))\n",
    "\n",
    "# define tracking area \n",
    "up_limit = np.int(1*(h/5)) # fifth of the horizon would be enough \n",
    "down_limit = np.int(4*(h/5))\n",
    "\n",
    "# determine the area between the four lines \n",
    "\n",
    "area1 = np.array([[0,detector_down],[w,detector_down]], np.int32).reshape((-1,1,2))\n",
    "area2 = np.array([[0,detector_up],[w,detector_up]], np.int32).reshape((-1,1,2))\n",
    "area3 = np.array([[0,up_limit],[w,up_limit]], np.int32).reshape((-1,1,2))\n",
    "area4 = np.array([[0,down_limit],[w,down_limit]], np.int32).reshape((-1,1,2))\n",
    "\n",
    "background_substractor = cv2.createBackgroundSubtractorMOG2()\n",
    "# vehicles_count=0\n",
    "while(cap.isOpened()):\n",
    "    _, frame = cap.read()\n",
    "    for i in vehicles:\n",
    "        i.get_weight()  \n",
    "    background_substractor_mask = background_substractor.apply(frame)\n",
    "    try:\n",
    "        cv2.imshow('First Frame', frame)\n",
    "        cv2.imshow('Backgroud Subtraction', background_substractor_mask)\n",
    "        # apply threshold on the mask\n",
    "        _, imBin = cv2.threshold(background_substractor_mask, 200, 255, cv2.THRESH_BINARY)\n",
    "        # remove noise \n",
    "        mask = cv2.morphologyEx(imBin, cv2.MORPH_OPEN,np.ones((3,3), np.uint8))\n",
    "        mask = cv2.morphologyEx(mask, cv2.MORPH_CLOSE, np.ones((11,11), np.uint8)) \n",
    "        cv2.imshow('Masked Image', cv2.resize(mask, (400, 400)))\n",
    "    except:\n",
    "        #If there is no more frames to show...\n",
    "        print('EOF')\n",
    "        print ('UP:', vehicle_up)\n",
    "        print ('DOWN:', vehicle_down)\n",
    "        print('Total: ', vehicle_up+ vehicle_down)\n",
    "        break\n",
    "        # look for contour\n",
    "    contours, hierarchy = cv2.findContours(mask, cv2.RETR_EXTERNAL, cv2.CHAIN_APPROX_NONE)\n",
    "    for cnt in contours:\n",
    "         contour_area = cv2.contourArea(cnt)\n",
    "         # determine the distance to start tracking \n",
    "         if contour_area > detection_area and contour_area < 20000:\n",
    "             # determine the center of the contours\n",
    "            M = cv2.moments(cnt)\n",
    "             # get the cordinates of the center\n",
    "            center_x = int(M['m10']/M['m00'])\n",
    "            center_y = int(M['m01']/M['m00'])\n",
    "            # calculate the up-right bounding rectangle\n",
    "            x,y,w,h = cv2.boundingRect(cnt)\n",
    "            # try to seperate two close objects \n",
    "            new = True\n",
    "            for i in vehicles:\n",
    "                if abs(x-i.getX()) <= w and abs(y-i.getY()) <= h:\n",
    "                    # we are still inside the dimentions of the same contour\n",
    "                    new = False\n",
    "                    # Update the coordinates of the vehicle and reset weight \n",
    "                    i.updateCoords(center_x,center_y)\n",
    "                   \n",
    "                    if i.going_UP(detector_down, detector_up) == True:\n",
    "                        vehicle_up += 1\n",
    "                        #df1.append(i.getId(),\"up\",time.strftime(\"%c\"))\n",
    "                    elif i.going_DOWN(detector_down, detector_up) == True:\n",
    "                        vehicle_down += 1      \n",
    "                        #df1.append(i.getId(),\"down\",time.strftime(\"%c\"))\n",
    "                    df2=pd.DataFrame({'5 Minutes': [datetime.now().strftime('%d/%m/%Y %H:%M')],'Flow (Veh/5 Minutes)':[vehicle_up+vehicle_down]})\n",
    "                    df1=df1.append(df2)\n",
    "                    break  \n",
    "                if i.getState() == '1':\n",
    "                    if i.getDir() == 'down' and i.getY() > down_limit:\n",
    "                        i.setDone()\n",
    "                    elif i.getDir() == 'up' and i.getY() < up_limit:\n",
    "                        i.setDone()\n",
    "                if i.timedOut():\n",
    "                    # Remove from the list\n",
    "                    index = vehicles.index(i)\n",
    "                    vehicles.pop(index)\n",
    "                    del i\n",
    "            if new == True:\n",
    "                p = Vehicles.Vehicles(vehicle_id,center_x,center_y, max_vehicle_weight)\n",
    "                vehicles.append(p)\n",
    "                vehicle_id += 1   \n",
    "            # draw rectangle    \n",
    "            img = cv2.rectangle(frame,(x,y),(x+w,y+h),(0,255,0),2) \n",
    "    frame = cv2.polylines(frame, [area1], False, (255,0,0), thickness=2)\n",
    "    frame = cv2.polylines(frame, [area2], False, (0,0,255), thickness=2)\n",
    "    frame = cv2.polylines(frame, [area3], False, (255,255,255), thickness=1)\n",
    "    frame = cv2.polylines(frame, [area4], False, (255,255,255), thickness=1)\n",
    "\n",
    "    cv2.imshow('Frame', cv2.resize(frame, (400, 400)))    \n",
    "    if cv2.waitKey(1) & 0xFF == ord('q'):\n",
    "        break               \n",
    "cap.release()\n",
    "cv2.destroyAllWindows()"
   ]
  },
  {
   "cell_type": "code",
   "execution_count": 14,
   "metadata": {},
   "outputs": [],
   "source": [
    "df1=df1.groupby(['5 Minutes']).max()"
   ]
  },
  {
   "cell_type": "code",
   "execution_count": 15,
   "metadata": {},
   "outputs": [],
   "source": [
    "df2 = pd.DataFrame(columns = df2_column_names)\n",
    "flag=False\n",
    "val=0\n",
    "for timeStamp, row in df1.iterrows():\n",
    "    if(flag==False):\n",
    "        val=row['Flow (Veh/5 Minutes)']\n",
    "        flag=True;\n",
    "        df2 = df2.append({'5 Minutes': timeStamp, 'Flow (Veh/5 Minutes)': val}, ignore_index=True)\n",
    "    else:\n",
    "        df2 = df2.append({'5 Minutes': timeStamp, 'Flow (Veh/5 Minutes)':row['Flow (Veh/5 Minutes)']-val }, ignore_index=True)\n",
    "        val=row['Flow (Veh/5 Minutes)']"
   ]
  },
  {
   "cell_type": "code",
   "execution_count": 16,
   "metadata": {},
   "outputs": [],
   "source": [
    "df2= df2.loc[:, ::-1] "
   ]
  },
  {
   "cell_type": "code",
   "execution_count": 17,
   "metadata": {},
   "outputs": [],
   "source": [
    "df2.to_csv('newDataset.csv', index=False)"
   ]
  },
  {
   "cell_type": "code",
   "execution_count": 18,
   "metadata": {},
   "outputs": [
    {
     "data": {
      "text/html": [
       "<div>\n",
       "<style scoped>\n",
       "    .dataframe tbody tr th:only-of-type {\n",
       "        vertical-align: middle;\n",
       "    }\n",
       "\n",
       "    .dataframe tbody tr th {\n",
       "        vertical-align: top;\n",
       "    }\n",
       "\n",
       "    .dataframe thead th {\n",
       "        text-align: right;\n",
       "    }\n",
       "</style>\n",
       "<table border=\"1\" class=\"dataframe\">\n",
       "  <thead>\n",
       "    <tr style=\"text-align: right;\">\n",
       "      <th></th>\n",
       "      <th>5 Minutes</th>\n",
       "      <th>Flow (Veh/5 Minutes)</th>\n",
       "    </tr>\n",
       "  </thead>\n",
       "  <tbody>\n",
       "    <tr>\n",
       "      <th>0</th>\n",
       "      <td>13/08/2022 14:43</td>\n",
       "      <td>18</td>\n",
       "    </tr>\n",
       "    <tr>\n",
       "      <th>1</th>\n",
       "      <td>13/08/2022 14:44</td>\n",
       "      <td>100</td>\n",
       "    </tr>\n",
       "    <tr>\n",
       "      <th>2</th>\n",
       "      <td>13/08/2022 14:45</td>\n",
       "      <td>93</td>\n",
       "    </tr>\n",
       "    <tr>\n",
       "      <th>3</th>\n",
       "      <td>13/08/2022 14:46</td>\n",
       "      <td>77</td>\n",
       "    </tr>\n",
       "  </tbody>\n",
       "</table>\n",
       "</div>"
      ],
      "text/plain": [
       "          5 Minutes Flow (Veh/5 Minutes)\n",
       "0  13/08/2022 14:43                   18\n",
       "1  13/08/2022 14:44                  100\n",
       "2  13/08/2022 14:45                   93\n",
       "3  13/08/2022 14:46                   77"
      ]
     },
     "execution_count": 18,
     "metadata": {},
     "output_type": "execute_result"
    }
   ],
   "source": [
    "df2"
   ]
  },
  {
   "cell_type": "code",
   "execution_count": null,
   "metadata": {},
   "outputs": [],
   "source": []
  },
  {
   "cell_type": "markdown",
   "metadata": {},
   "source": [
    "df2"
   ]
  },
  {
   "cell_type": "code",
   "execution_count": 19,
   "metadata": {},
   "outputs": [],
   "source": [
    "\n",
    "# from datetime import datetime\n",
    "# from time import time, sleep\n",
    "# int cnt=0\n",
    "# while True:\n",
    "#     cnt=cnt+1\n",
    "#     sleep(60 - time() % 60)\n",
    "#     t=datetime.now()\n",
    "#     df2=pd.DataFrame({'Timestamp': [t.strftime('%d/%m/%Y %I:%M')]})\n",
    "#     df1.append(df2)\n",
    "#     print(df1)\n",
    "#     print(t.strftime('%d/%m/%Y %I:%M'))\n",
    "#     if(cnt==2) break\n",
    "    \n",
    "\n",
    "# #   time.sleep(1)"
   ]
  },
  {
   "cell_type": "code",
   "execution_count": 20,
   "metadata": {},
   "outputs": [],
   "source": [
    "# print(time()%60)"
   ]
  },
  {
   "cell_type": "code",
   "execution_count": 21,
   "metadata": {},
   "outputs": [],
   "source": [
    "# df2_column_names = [\"Flow\", \"Timestamp\"]\n",
    "# df1 = pd.DataFrame(columns = df2_column_names)"
   ]
  },
  {
   "cell_type": "code",
   "execution_count": 22,
   "metadata": {},
   "outputs": [],
   "source": [
    "# t=datetime.now()\n",
    "# df2=pd.DataFrame({'Timestamp': [datetime.now().strftime('%d/%m/%Y %I:%M')]})\n",
    "# df1=df1.append(df2)"
   ]
  },
  {
   "cell_type": "code",
   "execution_count": 23,
   "metadata": {},
   "outputs": [],
   "source": [
    "# while True:\n",
    "#     sleep(0.5)\n",
    "#     print(datetime.now().strftime('%S'), end=\" \")\n",
    "#     print(datetime.now().strftime('%f'))"
   ]
  },
  {
   "cell_type": "code",
   "execution_count": 24,
   "metadata": {},
   "outputs": [],
   "source": [
    "# cnt=0\n",
    "# while True:\n",
    "#     cnt=cnt+1;\n",
    "#     if((60 - time() % 60) == 0):\n",
    "#         cnt=0\n",
    "    \n",
    "#     print(cnt)  "
   ]
  },
  {
   "cell_type": "code",
   "execution_count": 25,
   "metadata": {},
   "outputs": [],
   "source": [
    "import glob"
   ]
  },
  {
   "cell_type": "code",
   "execution_count": 26,
   "metadata": {},
   "outputs": [],
   "source": [
    "path = r'C:\\Users\\apeks\\OneDrive\\Desktop\\akshat h2\\roadTrafficForecast-master\\Traffic_Data_cali' # use your path\n",
    "all_files = glob.glob(path + \"/*.csv\")\n",
    "\n",
    "li = []\n",
    "\n",
    "for filename in all_files:\n",
    "    df = pd.read_csv(filename, index_col=None, header=0)\n",
    "    li.append(df)\n",
    "\n",
    "frame = pd.concat(li, axis=0, ignore_index=True)"
   ]
  },
  {
   "cell_type": "code",
   "execution_count": 29,
   "metadata": {},
   "outputs": [],
   "source": [
    "frame.to_csv('final.csv', index=False)"
   ]
  },
  {
   "cell_type": "code",
   "execution_count": null,
   "metadata": {},
   "outputs": [],
   "source": []
  }
 ],
 "metadata": {
  "kernelspec": {
   "display_name": "Python 3",
   "language": "python",
   "name": "python3"
  },
  "language_info": {
   "codemirror_mode": {
    "name": "ipython",
    "version": 3
   },
   "file_extension": ".py",
   "mimetype": "text/x-python",
   "name": "python",
   "nbconvert_exporter": "python",
   "pygments_lexer": "ipython3",
   "version": "3.7.6"
  }
 },
 "nbformat": 4,
 "nbformat_minor": 2
}
